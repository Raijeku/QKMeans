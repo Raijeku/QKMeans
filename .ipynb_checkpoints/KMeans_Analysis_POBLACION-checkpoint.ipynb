{
 "cells": [
  {
   "cell_type": "code",
   "execution_count": 1,
   "metadata": {
    "id": "P0nAfGAk3Fn4"
   },
   "outputs": [],
   "source": [
    "import pandas as pd"
   ]
  },
  {
   "cell_type": "code",
   "execution_count": 4,
   "metadata": {
    "colab": {
     "base_uri": "https://localhost:8080/",
     "height": 456
    },
    "id": "0S-oYFry8ZrC",
    "outputId": "b28e828e-ae45-4bac-8703-a270a7b183a5"
   },
   "outputs": [
    {
     "data": {
      "text/html": [
       "<div>\n",
       "<style scoped>\n",
       "    .dataframe tbody tr th:only-of-type {\n",
       "        vertical-align: middle;\n",
       "    }\n",
       "\n",
       "    .dataframe tbody tr th {\n",
       "        vertical-align: top;\n",
       "    }\n",
       "\n",
       "    .dataframe thead th {\n",
       "        text-align: right;\n",
       "    }\n",
       "</style>\n",
       "<table border=\"1\" class=\"dataframe\">\n",
       "  <thead>\n",
       "    <tr style=\"text-align: right;\">\n",
       "      <th></th>\n",
       "      <th>Hombres 1993</th>\n",
       "      <th>Mujeres 1993</th>\n",
       "      <th>Hombres 2005</th>\n",
       "      <th>Mujeres 2005</th>\n",
       "      <th>Hombres 2006</th>\n",
       "      <th>Mujeres 2006</th>\n",
       "      <th>Hombres 2007</th>\n",
       "      <th>Mujeres 2007</th>\n",
       "      <th>Hombres 2008</th>\n",
       "      <th>Mujeres 2008</th>\n",
       "      <th>...</th>\n",
       "      <th>Hombres 2016</th>\n",
       "      <th>Mujeres 2016</th>\n",
       "      <th>Hombres 2017</th>\n",
       "      <th>Mujeres 2017</th>\n",
       "      <th>Hombres 2018</th>\n",
       "      <th>Mujeres 2018</th>\n",
       "      <th>Hombres 2019</th>\n",
       "      <th>Mujeres_2019</th>\n",
       "      <th>Hombres 2020</th>\n",
       "      <th>Mujeres 2020</th>\n",
       "    </tr>\n",
       "  </thead>\n",
       "  <tbody>\n",
       "    <tr>\n",
       "      <th>0</th>\n",
       "      <td>779</td>\n",
       "      <td>686</td>\n",
       "      <td>1415</td>\n",
       "      <td>1348</td>\n",
       "      <td>1395</td>\n",
       "      <td>1329</td>\n",
       "      <td>1366</td>\n",
       "      <td>1303</td>\n",
       "      <td>1342</td>\n",
       "      <td>1278</td>\n",
       "      <td>...</td>\n",
       "      <td>1626</td>\n",
       "      <td>1567</td>\n",
       "      <td>1670</td>\n",
       "      <td>1611</td>\n",
       "      <td>1718</td>\n",
       "      <td>1656</td>\n",
       "      <td>1768</td>\n",
       "      <td>1706</td>\n",
       "      <td>1816</td>\n",
       "      <td>1749</td>\n",
       "    </tr>\n",
       "    <tr>\n",
       "      <th>1</th>\n",
       "      <td>627</td>\n",
       "      <td>618</td>\n",
       "      <td>1506</td>\n",
       "      <td>1397</td>\n",
       "      <td>1504</td>\n",
       "      <td>1406</td>\n",
       "      <td>1494</td>\n",
       "      <td>1406</td>\n",
       "      <td>1486</td>\n",
       "      <td>1408</td>\n",
       "      <td>...</td>\n",
       "      <td>1581</td>\n",
       "      <td>1527</td>\n",
       "      <td>1618</td>\n",
       "      <td>1565</td>\n",
       "      <td>1660</td>\n",
       "      <td>1608</td>\n",
       "      <td>1711</td>\n",
       "      <td>1661</td>\n",
       "      <td>1767</td>\n",
       "      <td>1715</td>\n",
       "    </tr>\n",
       "    <tr>\n",
       "      <th>2</th>\n",
       "      <td>587</td>\n",
       "      <td>579</td>\n",
       "      <td>1470</td>\n",
       "      <td>1441</td>\n",
       "      <td>1490</td>\n",
       "      <td>1462</td>\n",
       "      <td>1505</td>\n",
       "      <td>1477</td>\n",
       "      <td>1519</td>\n",
       "      <td>1491</td>\n",
       "      <td>...</td>\n",
       "      <td>1765</td>\n",
       "      <td>1720</td>\n",
       "      <td>1792</td>\n",
       "      <td>1746</td>\n",
       "      <td>1818</td>\n",
       "      <td>1774</td>\n",
       "      <td>1853</td>\n",
       "      <td>1811</td>\n",
       "      <td>1891</td>\n",
       "      <td>1852</td>\n",
       "    </tr>\n",
       "    <tr>\n",
       "      <th>3</th>\n",
       "      <td>559</td>\n",
       "      <td>547</td>\n",
       "      <td>1286</td>\n",
       "      <td>1301</td>\n",
       "      <td>1324</td>\n",
       "      <td>1339</td>\n",
       "      <td>1363</td>\n",
       "      <td>1376</td>\n",
       "      <td>1405</td>\n",
       "      <td>1415</td>\n",
       "      <td>...</td>\n",
       "      <td>1684</td>\n",
       "      <td>1682</td>\n",
       "      <td>1736</td>\n",
       "      <td>1731</td>\n",
       "      <td>1793</td>\n",
       "      <td>1783</td>\n",
       "      <td>1857</td>\n",
       "      <td>1837</td>\n",
       "      <td>1909</td>\n",
       "      <td>1880</td>\n",
       "    </tr>\n",
       "    <tr>\n",
       "      <th>4</th>\n",
       "      <td>646</td>\n",
       "      <td>596</td>\n",
       "      <td>1119</td>\n",
       "      <td>1122</td>\n",
       "      <td>1138</td>\n",
       "      <td>1144</td>\n",
       "      <td>1155</td>\n",
       "      <td>1165</td>\n",
       "      <td>1171</td>\n",
       "      <td>1186</td>\n",
       "      <td>...</td>\n",
       "      <td>1867</td>\n",
       "      <td>1933</td>\n",
       "      <td>1910</td>\n",
       "      <td>1978</td>\n",
       "      <td>1953</td>\n",
       "      <td>2023</td>\n",
       "      <td>1997</td>\n",
       "      <td>2072</td>\n",
       "      <td>2049</td>\n",
       "      <td>2130</td>\n",
       "    </tr>\n",
       "    <tr>\n",
       "      <th>...</th>\n",
       "      <td>...</td>\n",
       "      <td>...</td>\n",
       "      <td>...</td>\n",
       "      <td>...</td>\n",
       "      <td>...</td>\n",
       "      <td>...</td>\n",
       "      <td>...</td>\n",
       "      <td>...</td>\n",
       "      <td>...</td>\n",
       "      <td>...</td>\n",
       "      <td>...</td>\n",
       "      <td>...</td>\n",
       "      <td>...</td>\n",
       "      <td>...</td>\n",
       "      <td>...</td>\n",
       "      <td>...</td>\n",
       "      <td>...</td>\n",
       "      <td>...</td>\n",
       "      <td>...</td>\n",
       "      <td>...</td>\n",
       "      <td>...</td>\n",
       "    </tr>\n",
       "    <tr>\n",
       "      <th>352</th>\n",
       "      <td>1339</td>\n",
       "      <td>1517</td>\n",
       "      <td>1595</td>\n",
       "      <td>2014</td>\n",
       "      <td>1668</td>\n",
       "      <td>2109</td>\n",
       "      <td>1767</td>\n",
       "      <td>2244</td>\n",
       "      <td>1882</td>\n",
       "      <td>2406</td>\n",
       "      <td>...</td>\n",
       "      <td>2559</td>\n",
       "      <td>3317</td>\n",
       "      <td>2626</td>\n",
       "      <td>3426</td>\n",
       "      <td>2693</td>\n",
       "      <td>3539</td>\n",
       "      <td>2734</td>\n",
       "      <td>3624</td>\n",
       "      <td>2797</td>\n",
       "      <td>3728</td>\n",
       "    </tr>\n",
       "    <tr>\n",
       "      <th>353</th>\n",
       "      <td>1053</td>\n",
       "      <td>1260</td>\n",
       "      <td>1373</td>\n",
       "      <td>1800</td>\n",
       "      <td>1354</td>\n",
       "      <td>1781</td>\n",
       "      <td>1325</td>\n",
       "      <td>1748</td>\n",
       "      <td>1302</td>\n",
       "      <td>1723</td>\n",
       "      <td>...</td>\n",
       "      <td>1865</td>\n",
       "      <td>2528</td>\n",
       "      <td>1930</td>\n",
       "      <td>2622</td>\n",
       "      <td>1991</td>\n",
       "      <td>2703</td>\n",
       "      <td>2024</td>\n",
       "      <td>2756</td>\n",
       "      <td>2070</td>\n",
       "      <td>2839</td>\n",
       "    </tr>\n",
       "    <tr>\n",
       "      <th>354</th>\n",
       "      <td>731</td>\n",
       "      <td>1016</td>\n",
       "      <td>981</td>\n",
       "      <td>1409</td>\n",
       "      <td>931</td>\n",
       "      <td>1347</td>\n",
       "      <td>965</td>\n",
       "      <td>1391</td>\n",
       "      <td>1006</td>\n",
       "      <td>1437</td>\n",
       "      <td>...</td>\n",
       "      <td>1143</td>\n",
       "      <td>1646</td>\n",
       "      <td>1213</td>\n",
       "      <td>1757</td>\n",
       "      <td>1286</td>\n",
       "      <td>1877</td>\n",
       "      <td>1339</td>\n",
       "      <td>1969</td>\n",
       "      <td>1392</td>\n",
       "      <td>2052</td>\n",
       "    </tr>\n",
       "    <tr>\n",
       "      <th>355</th>\n",
       "      <td>464</td>\n",
       "      <td>698</td>\n",
       "      <td>743</td>\n",
       "      <td>1156</td>\n",
       "      <td>718</td>\n",
       "      <td>1107</td>\n",
       "      <td>693</td>\n",
       "      <td>1068</td>\n",
       "      <td>678</td>\n",
       "      <td>1054</td>\n",
       "      <td>...</td>\n",
       "      <td>777</td>\n",
       "      <td>1208</td>\n",
       "      <td>760</td>\n",
       "      <td>1192</td>\n",
       "      <td>751</td>\n",
       "      <td>1177</td>\n",
       "      <td>741</td>\n",
       "      <td>1178</td>\n",
       "      <td>757</td>\n",
       "      <td>1221</td>\n",
       "    </tr>\n",
       "    <tr>\n",
       "      <th>356</th>\n",
       "      <td>394</td>\n",
       "      <td>635</td>\n",
       "      <td>653</td>\n",
       "      <td>1149</td>\n",
       "      <td>695</td>\n",
       "      <td>1217</td>\n",
       "      <td>709</td>\n",
       "      <td>1254</td>\n",
       "      <td>715</td>\n",
       "      <td>1278</td>\n",
       "      <td>...</td>\n",
       "      <td>910</td>\n",
       "      <td>1545</td>\n",
       "      <td>903</td>\n",
       "      <td>1567</td>\n",
       "      <td>896</td>\n",
       "      <td>1589</td>\n",
       "      <td>878</td>\n",
       "      <td>1589</td>\n",
       "      <td>861</td>\n",
       "      <td>1595</td>\n",
       "    </tr>\n",
       "  </tbody>\n",
       "</table>\n",
       "<p>357 rows × 34 columns</p>\n",
       "</div>"
      ],
      "text/plain": [
       "     Hombres 1993  Mujeres 1993  Hombres 2005  Mujeres 2005  Hombres 2006  \\\n",
       "0             779           686          1415          1348          1395   \n",
       "1             627           618          1506          1397          1504   \n",
       "2             587           579          1470          1441          1490   \n",
       "3             559           547          1286          1301          1324   \n",
       "4             646           596          1119          1122          1138   \n",
       "..            ...           ...           ...           ...           ...   \n",
       "352          1339          1517          1595          2014          1668   \n",
       "353          1053          1260          1373          1800          1354   \n",
       "354           731          1016           981          1409           931   \n",
       "355           464           698           743          1156           718   \n",
       "356           394           635           653          1149           695   \n",
       "\n",
       "     Mujeres 2006  Hombres 2007  Mujeres 2007  Hombres 2008  Mujeres 2008  \\\n",
       "0            1329          1366          1303          1342          1278   \n",
       "1            1406          1494          1406          1486          1408   \n",
       "2            1462          1505          1477          1519          1491   \n",
       "3            1339          1363          1376          1405          1415   \n",
       "4            1144          1155          1165          1171          1186   \n",
       "..            ...           ...           ...           ...           ...   \n",
       "352          2109          1767          2244          1882          2406   \n",
       "353          1781          1325          1748          1302          1723   \n",
       "354          1347           965          1391          1006          1437   \n",
       "355          1107           693          1068           678          1054   \n",
       "356          1217           709          1254           715          1278   \n",
       "\n",
       "     ...  Hombres 2016  Mujeres 2016  Hombres 2017  Mujeres 2017  \\\n",
       "0    ...          1626          1567          1670          1611   \n",
       "1    ...          1581          1527          1618          1565   \n",
       "2    ...          1765          1720          1792          1746   \n",
       "3    ...          1684          1682          1736          1731   \n",
       "4    ...          1867          1933          1910          1978   \n",
       "..   ...           ...           ...           ...           ...   \n",
       "352  ...          2559          3317          2626          3426   \n",
       "353  ...          1865          2528          1930          2622   \n",
       "354  ...          1143          1646          1213          1757   \n",
       "355  ...           777          1208           760          1192   \n",
       "356  ...           910          1545           903          1567   \n",
       "\n",
       "     Hombres 2018  Mujeres 2018  Hombres 2019  Mujeres_2019  Hombres 2020  \\\n",
       "0            1718          1656          1768          1706          1816   \n",
       "1            1660          1608          1711          1661          1767   \n",
       "2            1818          1774          1853          1811          1891   \n",
       "3            1793          1783          1857          1837          1909   \n",
       "4            1953          2023          1997          2072          2049   \n",
       "..            ...           ...           ...           ...           ...   \n",
       "352          2693          3539          2734          3624          2797   \n",
       "353          1991          2703          2024          2756          2070   \n",
       "354          1286          1877          1339          1969          1392   \n",
       "355           751          1177           741          1178           757   \n",
       "356           896          1589           878          1589           861   \n",
       "\n",
       "     Mujeres 2020  \n",
       "0            1749  \n",
       "1            1715  \n",
       "2            1852  \n",
       "3            1880  \n",
       "4            2130  \n",
       "..            ...  \n",
       "352          3728  \n",
       "353          2839  \n",
       "354          2052  \n",
       "355          1221  \n",
       "356          1595  \n",
       "\n",
       "[357 rows x 34 columns]"
      ]
     },
     "execution_count": 4,
     "metadata": {},
     "output_type": "execute_result"
    }
   ],
   "source": [
    "dataset = pd.read_excel('POBLACION_MEDELLIN_1993_A_2O20.xlsx', engine='openpyxl')\n",
    "dataset"
   ]
  },
  {
   "cell_type": "code",
   "execution_count": 5,
   "metadata": {
    "id": "CVZpm4_N8nuW"
   },
   "outputs": [],
   "source": [
    "from sklearn.cluster import KMeans\n",
    "kmeans_instances = [KMeans(n_clusters=i).fit(dataset) for i in range(1,11)]"
   ]
  },
  {
   "cell_type": "markdown",
   "metadata": {
    "id": "Jl5hWtMa-ETH"
   },
   "source": [
    "Elbow method"
   ]
  },
  {
   "cell_type": "code",
   "execution_count": 6,
   "metadata": {
    "id": "nu2GfleZ9T0a"
   },
   "outputs": [],
   "source": [
    "import numpy as np\n",
    "from scipy.spatial.distance import cdist\n",
    "\n",
    "X = dataset\n",
    "distortions = []\n",
    "inertias = []\n",
    "mapping1 = {}\n",
    "mapping2 = {}\n",
    "\n",
    "for i in range(1,11):\n",
    "\n",
    "  distortions.append(sum(np.min(cdist(X, kmeans_instances[i-1].cluster_centers_,\n",
    "                                        'euclidean'), axis=1)) / X.shape[0])\n",
    "  inertias.append(kmeans_instances[i-1].inertia_)\n",
    " \n",
    "  mapping1[i-1] = sum(np.min(cdist(X, kmeans_instances[i-1].cluster_centers_,\n",
    "                                   'euclidean'), axis=1)) / X.shape[0]\n",
    "  mapping2[i-1] = kmeans_instances[i-1].inertia_"
   ]
  },
  {
   "cell_type": "code",
   "execution_count": 7,
   "metadata": {
    "colab": {
     "base_uri": "https://localhost:8080/"
    },
    "id": "D5k1sK8K-g5z",
    "outputId": "91593bd1-93a6-43da-afc8-677b5ca5d914"
   },
   "outputs": [
    {
     "name": "stdout",
     "output_type": "stream",
     "text": [
      "0 : 11365.645780685632\n",
      "1 : 6446.654936571437\n",
      "2 : 4927.062540012578\n",
      "3 : 4403.861209645116\n",
      "4 : 3857.950369811495\n",
      "5 : 3627.19507965889\n",
      "6 : 3429.153191539681\n",
      "7 : 3215.3812381961084\n",
      "8 : 3067.378226181442\n",
      "9 : 2944.2161638163057\n"
     ]
    }
   ],
   "source": [
    "for key, val in mapping1.items():\n",
    "    print(f'{key} : {val}')"
   ]
  },
  {
   "cell_type": "code",
   "execution_count": 8,
   "metadata": {
    "colab": {
     "base_uri": "https://localhost:8080/",
     "height": 295
    },
    "id": "EQa5P2Jg-8pI",
    "outputId": "45b8f9e6-d69f-4f1d-8d43-962be8e92f6c"
   },
   "outputs": [
    {
     "data": {
      "image/png": "[encoded data removed]",
      "text/plain": [
       "<Figure size 432x288 with 1 Axes>"
      ]
     },
     "metadata": {
      "needs_background": "light"
     },
     "output_type": "display_data"
    }
   ],
   "source": [
    "from matplotlib import pyplot as plt\n",
    "\n",
    "plt.plot(range(1,11), distortions, 'bx-')\n",
    "plt.xlabel('Values of K')\n",
    "plt.ylabel('Distortion')\n",
    "plt.title('The Elbow Method using Distortion')\n",
    "plt.show()"
   ]
  },
  {
   "cell_type": "code",
   "execution_count": 9,
   "metadata": {
    "colab": {
     "base_uri": "https://localhost:8080/"
    },
    "id": "TJx3t43D_CV0",
    "outputId": "7f07df9e-5769-4d63-c71c-9a6ecc14c330"
   },
   "outputs": [
    {
     "name": "stdout",
     "output_type": "stream",
     "text": [
      "0 : 57121794790.0056\n",
      "1 : 18176194501.434223\n",
      "2 : 10439885387.48014\n",
      "3 : 8092492944.7751\n",
      "4 : 6827804493.070989\n",
      "5 : 5812780988.903472\n",
      "6 : 5136477097.723498\n",
      "7 : 4576260225.512174\n",
      "8 : 4091561349.636059\n",
      "9 : 3823482763.0645847\n"
     ]
    }
   ],
   "source": [
    "for key, val in mapping2.items():\n",
    "\tprint(f'{key} : {val}')"
   ]
  },
  {
   "cell_type": "code",
   "execution_count": 10,
   "metadata": {
    "colab": {
     "base_uri": "https://localhost:8080/",
     "height": 295
    },
    "id": "99mN7hNf_TDA",
    "outputId": "aad5445a-f8d7-458b-9f04-abf49bb2fb7e"
   },
   "outputs": [
    {
     "data": {
      "image/png": "[encoded data removed]",
      "text/plain": [
       "<Figure size 432x288 with 1 Axes>"
      ]
     },
     "metadata": {
      "needs_background": "light"
     },
     "output_type": "display_data"
    }
   ],
   "source": [
    "plt.plot(range(1,11), inertias, 'bx-')\n",
    "plt.xlabel('Values of K')\n",
    "plt.ylabel('Inertia')\n",
    "plt.title('The Elbow Method using Inertia')\n",
    "plt.show()\n"
   ]
  },
  {
   "cell_type": "markdown",
   "metadata": {
    "id": "pfQFuMFo_7lA"
   },
   "source": [
    "Davies Bouldin score"
   ]
  },
  {
   "cell_type": "code",
   "execution_count": 11,
   "metadata": {
    "colab": {
     "base_uri": "https://localhost:8080/"
    },
    "id": "XFpQO3qc_YAA",
    "outputId": "50742263-2f4c-42b2-b408-459d2316b5d7"
   },
   "outputs": [
    {
     "name": "stdout",
     "output_type": "stream",
     "text": [
      "2 : 0.7489903382639329\n",
      "3 : 0.943422940559862\n",
      "4 : 0.9072783204077446\n",
      "5 : 1.0304100719803146\n",
      "6 : 1.0149645070760065\n",
      "7 : 1.0414842990680704\n",
      "8 : 0.9870767310822937\n",
      "9 : 1.007577037157708\n"
     ]
    }
   ],
   "source": [
    "from sklearn.metrics import davies_bouldin_score\n",
    "\n",
    "davies_scores = []\n",
    "for key, kmeans_instance in enumerate(kmeans_instances):\n",
    "  if key >= 2: \n",
    "    davies_scores.append(davies_bouldin_score(X, kmeans_instance.labels_))\n",
    "    print(key,':',davies_scores[-1])"
   ]
  },
  {
   "cell_type": "code",
   "execution_count": 17,
   "metadata": {},
   "outputs": [
    {
     "data": {
      "image/png": "[encoded data removed]",
      "text/plain": [
       "<Figure size 432x288 with 1 Axes>"
      ]
     },
     "metadata": {
      "needs_background": "light"
     },
     "output_type": "display_data"
    }
   ],
   "source": [
    "plt.plot(range(2,10), 1-np.array(davies_scores), 'bx-')\n",
    "plt.xlabel('Values of K')\n",
    "plt.ylabel('Davies Score')\n",
    "plt.title('The Elbow Method using Davies Score')\n",
    "plt.show()"
   ]
  },
  {
   "cell_type": "markdown",
   "metadata": {
    "id": "wMyfIN9NEiPP"
   },
   "source": [
    "Calinski Harabasz score"
   ]
  },
  {
   "cell_type": "code",
   "execution_count": 16,
   "metadata": {
    "colab": {
     "base_uri": "https://localhost:8080/"
    },
    "id": "uZTOsii5Awrm",
    "outputId": "31abed0b-f308-43cf-a7f5-74c2022422b7"
   },
   "outputs": [
    {
     "name": "stdout",
     "output_type": "stream",
     "text": [
      "2 : 791.4548539159161\n",
      "3 : 712.8970709633969\n",
      "4 : 648.2129285660887\n",
      "5 : 619.6505211039838\n",
      "6 : 590.3806845993967\n",
      "7 : 572.4696792114094\n",
      "8 : 563.7982563456524\n",
      "9 : 537.4539804973476\n"
     ]
    }
   ],
   "source": [
    "from sklearn.metrics import calinski_harabasz_score\n",
    "\n",
    "calinski_scores = []\n",
    "for key, kmeans_instance in enumerate(kmeans_instances):\n",
    "    if key >= 2: \n",
    "        calinski_scores.append(calinski_harabasz_score(X, kmeans_instance.labels_))\n",
    "        print(key,':',calinski_scores[-1])"
   ]
  },
  {
   "cell_type": "code",
   "execution_count": 19,
   "metadata": {},
   "outputs": [
    {
     "data": {
      "image/png": "[encoded data removed]",
      "text/plain": [
       "<Figure size 432x288 with 1 Axes>"
      ]
     },
     "metadata": {
      "needs_background": "light"
     },
     "output_type": "display_data"
    }
   ],
   "source": [
    "plt.plot(range(2,10), calinski_scores, 'bx-')\n",
    "plt.xlabel('Values of K')\n",
    "plt.ylabel('Calinski Harabasz Score')\n",
    "plt.title('The Elbow Method using Calinski Harabasz Score')\n",
    "plt.show()"
   ]
  },
  {
   "cell_type": "markdown",
   "metadata": {
    "id": "hN0P0oMeEojf"
   },
   "source": [
    "Silhouette score"
   ]
  },
  {
   "cell_type": "code",
   "execution_count": 20,
   "metadata": {
    "colab": {
     "base_uri": "https://localhost:8080/"
    },
    "id": "yYlNAqMRB6cC",
    "outputId": "c3fc1f0d-d90e-40c1-c024-9b4af41b18b0"
   },
   "outputs": [
    {
     "name": "stdout",
     "output_type": "stream",
     "text": [
      "2 : 0.48037256040959003\n",
      "3 : 0.40839952942925434\n",
      "4 : 0.3801450194768409\n",
      "5 : 0.3603330324052873\n",
      "6 : 0.36655246646609335\n",
      "7 : 0.364183462172435\n",
      "8 : 0.3683997801094977\n",
      "9 : 0.3482857515404\n"
     ]
    }
   ],
   "source": [
    "from sklearn.metrics import silhouette_score\n",
    "\n",
    "silhouette_scores = []\n",
    "for key, kmeans_instance in enumerate(kmeans_instances):\n",
    "    if key >= 2: \n",
    "        silhouette_scores.append(silhouette_score(X, kmeans_instance.labels_, metric='euclidean'))\n",
    "        print(key,':',silhouette_scores[-1])"
   ]
  },
  {
   "cell_type": "code",
   "execution_count": 21,
   "metadata": {
    "id": "aAt2dht-Cbc_"
   },
   "outputs": [
    {
     "data": {
      "image/png": "[encoded data removed]",
      "text/plain": [
       "<Figure size 432x288 with 1 Axes>"
      ]
     },
     "metadata": {
      "needs_background": "light"
     },
     "output_type": "display_data"
    }
   ],
   "source": [
    "plt.plot(range(2,10), silhouette_scores, 'bx-')\n",
    "plt.xlabel('Values of K')\n",
    "plt.ylabel('Silhouette Score')\n",
    "plt.title('The Elbow Method using Silhouette Score')\n",
    "plt.show()"
   ]
  }
 ],
 "metadata": {
  "colab": {
   "collapsed_sections": [],
   "name": "KMeans Analysis.ipynb",
   "provenance": []
  },
  "kernelspec": {
   "display_name": "Python 3",
   "language": "python",
   "name": "python3"
  },
  "language_info": {
   "codemirror_mode": {
    "name": "ipython",
    "version": 3
   },
   "file_extension": ".py",
   "mimetype": "text/x-python",
   "name": "python",
   "nbconvert_exporter": "python",
   "pygments_lexer": "ipython3",
   "version": "3.8.3"
  }
 },
 "nbformat": 4,
 "nbformat_minor": 1
}
