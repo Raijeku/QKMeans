{
 "cells": [
  {
   "cell_type": "code",
   "execution_count": 1,
   "metadata": {
    "id": "P0nAfGAk3Fn4"
   },
   "outputs": [],
   "source": [
    "import pandas as pd"
   ]
  },
  {
   "cell_type": "code",
   "execution_count": 2,
   "metadata": {
    "colab": {
     "base_uri": "https://localhost:8080/",
     "height": 456
    },
    "id": "0S-oYFry8ZrC",
    "outputId": "b28e828e-ae45-4bac-8703-a270a7b183a5"
   },
   "outputs": [
    {
     "data": {
      "text/html": [
       "<div>\n",
       "<style scoped>\n",
       "    .dataframe tbody tr th:only-of-type {\n",
       "        vertical-align: middle;\n",
       "    }\n",
       "\n",
       "    .dataframe tbody tr th {\n",
       "        vertical-align: top;\n",
       "    }\n",
       "\n",
       "    .dataframe thead th {\n",
       "        text-align: right;\n",
       "    }\n",
       "</style>\n",
       "<table border=\"1\" class=\"dataframe\">\n",
       "  <thead>\n",
       "    <tr style=\"text-align: right;\">\n",
       "      <th></th>\n",
       "      <th>Matricula Primera Infancia</th>\n",
       "      <th>Matricula Transición</th>\n",
       "      <th>Matricula Primaria</th>\n",
       "      <th>Matricula Secundaria</th>\n",
       "      <th>Matricula Media Total</th>\n",
       "      <th>Matricula CLEIS</th>\n",
       "      <th>Matricula Total</th>\n",
       "      <th>Tasa de Aprobacion 2016</th>\n",
       "      <th>Tasa de Reprobacion 2016</th>\n",
       "      <th>Tasa de Desercion 2016</th>\n",
       "    </tr>\n",
       "  </thead>\n",
       "  <tbody>\n",
       "    <tr>\n",
       "      <th>0</th>\n",
       "      <td>0.0</td>\n",
       "      <td>51.0</td>\n",
       "      <td>289.0</td>\n",
       "      <td>267.0</td>\n",
       "      <td>103.0</td>\n",
       "      <td>278.0</td>\n",
       "      <td>988.0</td>\n",
       "      <td>0.953</td>\n",
       "      <td>0.012</td>\n",
       "      <td>0.035</td>\n",
       "    </tr>\n",
       "    <tr>\n",
       "      <th>1</th>\n",
       "      <td>0.0</td>\n",
       "      <td>95.0</td>\n",
       "      <td>543.0</td>\n",
       "      <td>576.0</td>\n",
       "      <td>231.0</td>\n",
       "      <td>0.0</td>\n",
       "      <td>1445.0</td>\n",
       "      <td>0.982</td>\n",
       "      <td>0.009</td>\n",
       "      <td>0.010</td>\n",
       "    </tr>\n",
       "    <tr>\n",
       "      <th>2</th>\n",
       "      <td>0.0</td>\n",
       "      <td>13.0</td>\n",
       "      <td>52.0</td>\n",
       "      <td>25.0</td>\n",
       "      <td>2.0</td>\n",
       "      <td>0.0</td>\n",
       "      <td>92.0</td>\n",
       "      <td>0.759</td>\n",
       "      <td>0.190</td>\n",
       "      <td>0.052</td>\n",
       "    </tr>\n",
       "    <tr>\n",
       "      <th>3</th>\n",
       "      <td>0.0</td>\n",
       "      <td>7.0</td>\n",
       "      <td>62.0</td>\n",
       "      <td>19.0</td>\n",
       "      <td>2.0</td>\n",
       "      <td>0.0</td>\n",
       "      <td>90.0</td>\n",
       "      <td>0.877</td>\n",
       "      <td>0.062</td>\n",
       "      <td>0.062</td>\n",
       "    </tr>\n",
       "    <tr>\n",
       "      <th>4</th>\n",
       "      <td>0.0</td>\n",
       "      <td>144.0</td>\n",
       "      <td>911.0</td>\n",
       "      <td>0.0</td>\n",
       "      <td>0.0</td>\n",
       "      <td>0.0</td>\n",
       "      <td>1055.0</td>\n",
       "      <td>0.944</td>\n",
       "      <td>0.039</td>\n",
       "      <td>0.017</td>\n",
       "    </tr>\n",
       "    <tr>\n",
       "      <th>...</th>\n",
       "      <td>...</td>\n",
       "      <td>...</td>\n",
       "      <td>...</td>\n",
       "      <td>...</td>\n",
       "      <td>...</td>\n",
       "      <td>...</td>\n",
       "      <td>...</td>\n",
       "      <td>...</td>\n",
       "      <td>...</td>\n",
       "      <td>...</td>\n",
       "    </tr>\n",
       "    <tr>\n",
       "      <th>4636</th>\n",
       "      <td>0.0</td>\n",
       "      <td>0.0</td>\n",
       "      <td>9.0</td>\n",
       "      <td>0.0</td>\n",
       "      <td>0.0</td>\n",
       "      <td>0.0</td>\n",
       "      <td>9.0</td>\n",
       "      <td>1.000</td>\n",
       "      <td>0.000</td>\n",
       "      <td>0.000</td>\n",
       "    </tr>\n",
       "    <tr>\n",
       "      <th>4637</th>\n",
       "      <td>0.0</td>\n",
       "      <td>2.0</td>\n",
       "      <td>21.0</td>\n",
       "      <td>0.0</td>\n",
       "      <td>0.0</td>\n",
       "      <td>0.0</td>\n",
       "      <td>23.0</td>\n",
       "      <td>1.000</td>\n",
       "      <td>0.000</td>\n",
       "      <td>0.000</td>\n",
       "    </tr>\n",
       "    <tr>\n",
       "      <th>4638</th>\n",
       "      <td>0.0</td>\n",
       "      <td>2.0</td>\n",
       "      <td>19.0</td>\n",
       "      <td>0.0</td>\n",
       "      <td>0.0</td>\n",
       "      <td>0.0</td>\n",
       "      <td>21.0</td>\n",
       "      <td>0.923</td>\n",
       "      <td>0.000</td>\n",
       "      <td>0.077</td>\n",
       "    </tr>\n",
       "    <tr>\n",
       "      <th>4639</th>\n",
       "      <td>0.0</td>\n",
       "      <td>0.0</td>\n",
       "      <td>15.0</td>\n",
       "      <td>0.0</td>\n",
       "      <td>0.0</td>\n",
       "      <td>0.0</td>\n",
       "      <td>15.0</td>\n",
       "      <td>0.889</td>\n",
       "      <td>0.000</td>\n",
       "      <td>0.111</td>\n",
       "    </tr>\n",
       "    <tr>\n",
       "      <th>4640</th>\n",
       "      <td>52.0</td>\n",
       "      <td>22.0</td>\n",
       "      <td>0.0</td>\n",
       "      <td>0.0</td>\n",
       "      <td>0.0</td>\n",
       "      <td>0.0</td>\n",
       "      <td>74.0</td>\n",
       "      <td>0.000</td>\n",
       "      <td>0.000</td>\n",
       "      <td>0.000</td>\n",
       "    </tr>\n",
       "  </tbody>\n",
       "</table>\n",
       "<p>4641 rows × 10 columns</p>\n",
       "</div>"
      ],
      "text/plain": [
       "      Matricula Primera Infancia  Matricula Transición  Matricula Primaria  \\\n",
       "0                            0.0                  51.0               289.0   \n",
       "1                            0.0                  95.0               543.0   \n",
       "2                            0.0                  13.0                52.0   \n",
       "3                            0.0                   7.0                62.0   \n",
       "4                            0.0                 144.0               911.0   \n",
       "...                          ...                   ...                 ...   \n",
       "4636                         0.0                   0.0                 9.0   \n",
       "4637                         0.0                   2.0                21.0   \n",
       "4638                         0.0                   2.0                19.0   \n",
       "4639                         0.0                   0.0                15.0   \n",
       "4640                        52.0                  22.0                 0.0   \n",
       "\n",
       "      Matricula Secundaria  Matricula Media Total  Matricula CLEIS  \\\n",
       "0                    267.0                  103.0            278.0   \n",
       "1                    576.0                  231.0              0.0   \n",
       "2                     25.0                    2.0              0.0   \n",
       "3                     19.0                    2.0              0.0   \n",
       "4                      0.0                    0.0              0.0   \n",
       "...                    ...                    ...              ...   \n",
       "4636                   0.0                    0.0              0.0   \n",
       "4637                   0.0                    0.0              0.0   \n",
       "4638                   0.0                    0.0              0.0   \n",
       "4639                   0.0                    0.0              0.0   \n",
       "4640                   0.0                    0.0              0.0   \n",
       "\n",
       "      Matricula Total  Tasa de Aprobacion 2016  Tasa de Reprobacion 2016  \\\n",
       "0               988.0                    0.953                     0.012   \n",
       "1              1445.0                    0.982                     0.009   \n",
       "2                92.0                    0.759                     0.190   \n",
       "3                90.0                    0.877                     0.062   \n",
       "4              1055.0                    0.944                     0.039   \n",
       "...               ...                      ...                       ...   \n",
       "4636              9.0                    1.000                     0.000   \n",
       "4637             23.0                    1.000                     0.000   \n",
       "4638             21.0                    0.923                     0.000   \n",
       "4639             15.0                    0.889                     0.000   \n",
       "4640             74.0                    0.000                     0.000   \n",
       "\n",
       "      Tasa de Desercion 2016  \n",
       "0                      0.035  \n",
       "1                      0.010  \n",
       "2                      0.052  \n",
       "3                      0.062  \n",
       "4                      0.017  \n",
       "...                      ...  \n",
       "4636                   0.000  \n",
       "4637                   0.000  \n",
       "4638                   0.077  \n",
       "4639                   0.111  \n",
       "4640                   0.000  \n",
       "\n",
       "[4641 rows x 10 columns]"
      ]
     },
     "execution_count": 2,
     "metadata": {},
     "output_type": "execute_result"
    }
   ],
   "source": [
    "dataset = pd.read_excel('Matriculas_Colegios_Antioquia_2016_Depurado.xlsx', engine='openpyxl')\n",
    "dataset"
   ]
  },
  {
   "cell_type": "code",
   "execution_count": 3,
   "metadata": {},
   "outputs": [],
   "source": [
    "dataset = dataset.fillna(0)"
   ]
  },
  {
   "cell_type": "code",
   "execution_count": 4,
   "metadata": {
    "id": "CVZpm4_N8nuW"
   },
   "outputs": [],
   "source": [
    "from sklearn.cluster import KMeans\n",
    "kmeans_instances = [KMeans(n_clusters=i).fit(dataset) for i in range(1,11)]"
   ]
  },
  {
   "cell_type": "markdown",
   "metadata": {
    "id": "Jl5hWtMa-ETH"
   },
   "source": [
    "Elbow method"
   ]
  },
  {
   "cell_type": "code",
   "execution_count": 5,
   "metadata": {
    "id": "nu2GfleZ9T0a"
   },
   "outputs": [],
   "source": [
    "import numpy as np\n",
    "from scipy.spatial.distance import cdist\n",
    "\n",
    "X = dataset\n",
    "distortions = []\n",
    "inertias = []\n",
    "mapping1 = {}\n",
    "mapping2 = {}\n",
    "\n",
    "for i in range(1,11):\n",
    "\n",
    "  distortions.append(sum(np.min(cdist(X, kmeans_instances[i-1].cluster_centers_,\n",
    "                                        'euclidean'), axis=1)) / X.shape[0])\n",
    "  inertias.append(kmeans_instances[i-1].inertia_)\n",
    " \n",
    "  mapping1[i-1] = sum(np.min(cdist(X, kmeans_instances[i-1].cluster_centers_,\n",
    "                                   'euclidean'), axis=1)) / X.shape[0]\n",
    "  mapping2[i-1] = kmeans_instances[i-1].inertia_"
   ]
  },
  {
   "cell_type": "code",
   "execution_count": 6,
   "metadata": {
    "colab": {
     "base_uri": "https://localhost:8080/"
    },
    "id": "D5k1sK8K-g5z",
    "outputId": "91593bd1-93a6-43da-afc8-677b5ca5d914"
   },
   "outputs": [
    {
     "name": "stdout",
     "output_type": "stream",
     "text": [
      "0 : 175.70930519910976\n",
      "1 : 101.84057105421105\n",
      "2 : 73.62267483568932\n",
      "3 : 64.84945890272883\n",
      "4 : 61.16244201692192\n",
      "5 : 58.11918006094728\n",
      "6 : 55.36095442412979\n",
      "7 : 52.30104453086725\n",
      "8 : 51.350195298490505\n",
      "9 : 48.64593786712691\n"
     ]
    }
   ],
   "source": [
    "for key, val in mapping1.items():\n",
    "    print(f'{key} : {val}')"
   ]
  },
  {
   "cell_type": "code",
   "execution_count": 7,
   "metadata": {
    "colab": {
     "base_uri": "https://localhost:8080/",
     "height": 295
    },
    "id": "EQa5P2Jg-8pI",
    "outputId": "45b8f9e6-d69f-4f1d-8d43-962be8e92f6c"
   },
   "outputs": [
    {
     "data": {
      "image/png": "[encoded data removed]",
      "text/plain": [
       "<Figure size 432x288 with 1 Axes>"
      ]
     },
     "metadata": {
      "needs_background": "light"
     },
     "output_type": "display_data"
    }
   ],
   "source": [
    "from matplotlib import pyplot as plt\n",
    "\n",
    "plt.plot(range(1,11), distortions, 'bx-')\n",
    "plt.xlabel('Values of K')\n",
    "plt.ylabel('Distortion')\n",
    "plt.title('The Elbow Method using distortion')\n",
    "plt.savefig(\"kmeans_matriculas_distortion.png\", transparent = True, bbox_inches = 'tight', pad_inches = 0)\n",
    "plt.savefig(\"kmeans_matriculas_distortion.pdf\", transparent = True, bbox_inches = 'tight', pad_inches = 0)\n",
    "plt.savefig(\"kmeans_enrollment_distortion.svg\", transparent = True, bbox_inches = 'tight', pad_inches = 0)\n",
    "plt.show()"
   ]
  },
  {
   "cell_type": "code",
   "execution_count": 8,
   "metadata": {
    "colab": {
     "base_uri": "https://localhost:8080/"
    },
    "id": "TJx3t43D_CV0",
    "outputId": "7f07df9e-5769-4d63-c71c-9a6ecc14c330"
   },
   "outputs": [
    {
     "name": "stdout",
     "output_type": "stream",
     "text": [
      "0 : 478204140.5764739\n",
      "1 : 169462272.7432738\n",
      "2 : 107714303.40699384\n",
      "3 : 83639651.84005532\n",
      "4 : 70441713.66943055\n",
      "5 : 60114857.19949859\n",
      "6 : 53290597.704474546\n",
      "7 : 47283987.291454695\n",
      "8 : 41898756.705914855\n",
      "9 : 36771639.96019452\n"
     ]
    }
   ],
   "source": [
    "for key, val in mapping2.items():\n",
    "\tprint(f'{key} : {val}')"
   ]
  },
  {
   "cell_type": "code",
   "execution_count": 9,
   "metadata": {
    "colab": {
     "base_uri": "https://localhost:8080/",
     "height": 295
    },
    "id": "99mN7hNf_TDA",
    "outputId": "aad5445a-f8d7-458b-9f04-abf49bb2fb7e"
   },
   "outputs": [
    {
     "data": {
      "image/png": "[encoded data removed]",
      "text/plain": [
       "<Figure size 432x288 with 1 Axes>"
      ]
     },
     "metadata": {
      "needs_background": "light"
     },
     "output_type": "display_data"
    }
   ],
   "source": [
    "plt.plot(range(1,11), inertias, 'bx-')\n",
    "plt.xlabel('Values of K')\n",
    "plt.ylabel('Inertia')\n",
    "plt.title('The Elbow Method using inertia')\n",
    "plt.savefig(\"kmeans_matriculas_inertia.png\", transparent = True, bbox_inches = 'tight', pad_inches = 0)\n",
    "plt.savefig(\"kmeans_matriculas_inertia.pdf\", transparent = True, bbox_inches = 'tight', pad_inches = 0)\n",
    "plt.savefig(\"kmeans_enrollment_inertia.svg\", transparent = True, bbox_inches = 'tight', pad_inches = 0)\n",
    "plt.show()\n"
   ]
  },
  {
   "cell_type": "markdown",
   "metadata": {
    "id": "pfQFuMFo_7lA"
   },
   "source": [
    "Davies Bouldin score"
   ]
  },
  {
   "cell_type": "code",
   "execution_count": 10,
   "metadata": {
    "colab": {
     "base_uri": "https://localhost:8080/"
    },
    "id": "XFpQO3qc_YAA",
    "outputId": "50742263-2f4c-42b2-b408-459d2316b5d7"
   },
   "outputs": [
    {
     "name": "stdout",
     "output_type": "stream",
     "text": [
      "2 : 0.7367433835025671\n",
      "3 : 0.8880374926629596\n",
      "4 : 0.9442686500156869\n",
      "5 : 0.8944258458381431\n",
      "6 : 0.8287307508552167\n",
      "7 : 0.9042274057415524\n",
      "8 : 0.8304269417619935\n",
      "9 : 0.7923695865086051\n"
     ]
    }
   ],
   "source": [
    "from sklearn.metrics import davies_bouldin_score\n",
    "\n",
    "davies_scores = []\n",
    "for key, kmeans_instance in enumerate(kmeans_instances):\n",
    "  if key >= 2: \n",
    "    davies_scores.append(davies_bouldin_score(X, kmeans_instance.labels_))\n",
    "    print(key,':',davies_scores[-1])"
   ]
  },
  {
   "cell_type": "code",
   "execution_count": 11,
   "metadata": {},
   "outputs": [
    {
     "data": {
      "image/png": "[encoded data removed]",
      "text/plain": [
       "<Figure size 432x288 with 1 Axes>"
      ]
     },
     "metadata": {
      "needs_background": "light"
     },
     "output_type": "display_data"
    }
   ],
   "source": [
    "plt.plot(range(2,10), np.array(davies_scores), 'bx-')\n",
    "plt.xlabel('Values of K')\n",
    "plt.ylabel('Davies Bouldin Score')\n",
    "plt.title('Davies Bouldin Score for K clusters')\n",
    "plt.savefig(\"kmeans_matriculas_davies_bouldin.png\", transparent = True, bbox_inches = 'tight', pad_inches = 0)\n",
    "plt.savefig(\"kmeans_matriculas_davies_bouldin.pdf\", transparent = True, bbox_inches = 'tight', pad_inches = 0)\n",
    "plt.savefig(\"kmeans_enrollment_davies_bouldin.svg\", transparent = True, bbox_inches = 'tight', pad_inches = 0)\n",
    "plt.show()"
   ]
  },
  {
   "cell_type": "markdown",
   "metadata": {
    "id": "wMyfIN9NEiPP"
   },
   "source": [
    "Calinski Harabasz score"
   ]
  },
  {
   "cell_type": "code",
   "execution_count": 12,
   "metadata": {
    "colab": {
     "base_uri": "https://localhost:8080/"
    },
    "id": "uZTOsii5Awrm",
    "outputId": "31abed0b-f308-43cf-a7f5-74c2022422b7"
   },
   "outputs": [
    {
     "name": "stdout",
     "output_type": "stream",
     "text": [
      "2 : 7976.356502836861\n",
      "3 : 7291.58915561555\n",
      "4 : 6709.045367678833\n",
      "5 : 6447.146189826785\n",
      "6 : 6158.21377655975\n",
      "7 : 6031.800569076063\n",
      "8 : 6029.342364425601\n",
      "9 : 6177.094674805334\n"
     ]
    }
   ],
   "source": [
    "from sklearn.metrics import calinski_harabasz_score\n",
    "\n",
    "calinski_scores = []\n",
    "for key, kmeans_instance in enumerate(kmeans_instances):\n",
    "    if key >= 2: \n",
    "        calinski_scores.append(calinski_harabasz_score(X, kmeans_instance.labels_))\n",
    "        print(key,':',calinski_scores[-1])"
   ]
  },
  {
   "cell_type": "code",
   "execution_count": 13,
   "metadata": {},
   "outputs": [
    {
     "data": {
      "image/png": "[encoded data removed]",
      "text/plain": [
       "<Figure size 432x288 with 1 Axes>"
      ]
     },
     "metadata": {
      "needs_background": "light"
     },
     "output_type": "display_data"
    }
   ],
   "source": [
    "plt.plot(range(2,10), calinski_scores, 'bx-')\n",
    "plt.xlabel('Values of K')\n",
    "plt.ylabel('Calinski Harabasz Score')\n",
    "plt.savefig(\"kmeans_matriculas_calinski_harabasz.png\", transparent = True, bbox_inches = 'tight', pad_inches = 0)\n",
    "plt.savefig(\"kmeans_matriculas_calinski_harabasz.pdf\", transparent = True, bbox_inches = 'tight', pad_inches = 0)\n",
    "plt.savefig(\"kmeans_enrollment_calinski_harabasz.svg\", transparent = True, bbox_inches = 'tight', pad_inches = 0)\n",
    "plt.show()"
   ]
  },
  {
   "cell_type": "markdown",
   "metadata": {
    "id": "hN0P0oMeEojf"
   },
   "source": [
    "Silhouette score"
   ]
  },
  {
   "cell_type": "code",
   "execution_count": 14,
   "metadata": {
    "colab": {
     "base_uri": "https://localhost:8080/"
    },
    "id": "yYlNAqMRB6cC",
    "outputId": "c3fc1f0d-d90e-40c1-c024-9b4af41b18b0"
   },
   "outputs": [
    {
     "name": "stdout",
     "output_type": "stream",
     "text": [
      "2 : 0.816931674901893\n",
      "3 : 0.7950304880265217\n",
      "4 : 0.7867803939817218\n",
      "5 : 0.7821021658569396\n",
      "6 : 0.7796664394610278\n",
      "7 : 0.749786903775965\n",
      "8 : 0.746630744950079\n",
      "9 : 0.7542818580824612\n"
     ]
    }
   ],
   "source": [
    "from sklearn.metrics import silhouette_score\n",
    "\n",
    "silhouette_scores = []\n",
    "for key, kmeans_instance in enumerate(kmeans_instances):\n",
    "    if key >= 2: \n",
    "        silhouette_scores.append(silhouette_score(X, kmeans_instance.labels_, metric='euclidean'))\n",
    "        print(key,':',silhouette_scores[-1])"
   ]
  },
  {
   "cell_type": "code",
   "execution_count": 15,
   "metadata": {
    "id": "aAt2dht-Cbc_"
   },
   "outputs": [
    {
     "data": {
      "image/png": "[encoded data removed]",
      "text/plain": [
       "<Figure size 432x288 with 1 Axes>"
      ]
     },
     "metadata": {
      "needs_background": "light"
     },
     "output_type": "display_data"
    }
   ],
   "source": [
    "plt.plot(range(2,10), silhouette_scores, 'bx-')\n",
    "plt.xlabel('Values of K')\n",
    "plt.ylabel('Silhouette Score')\n",
    "plt.title('Silhouette Coefficient for K clusters')\n",
    "plt.savefig(\"kmeans_matriculas_silhouette.png\", transparent = True, bbox_inches = 'tight', pad_inches = 0)\n",
    "plt.savefig(\"kmeans_matriculas_silhouette.pdf\", transparent = True, bbox_inches = 'tight', pad_inches = 0)\n",
    "plt.savefig(\"kmeans_enrollment_silhouette.svg\", transparent = True, bbox_inches = 'tight', pad_inches = 0)\n",
    "plt.show()"
   ]
  }
 ],
 "metadata": {
  "colab": {
   "collapsed_sections": [],
   "name": "KMeans Analysis.ipynb",
   "provenance": []
  },
  "kernelspec": {
   "display_name": "Python 3",
   "language": "python",
   "name": "python3"
  },
  "language_info": {
   "codemirror_mode": {
    "name": "ipython",
    "version": 3
   },
   "file_extension": ".py",
   "mimetype": "text/x-python",
   "name": "python",
   "nbconvert_exporter": "python",
   "pygments_lexer": "ipython3",
   "version": "3.7.6"
  }
 },
 "nbformat": 4,
 "nbformat_minor": 1
}
